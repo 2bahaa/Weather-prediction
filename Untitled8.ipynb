{
  "nbformat": 4,
  "nbformat_minor": 0,
  "metadata": {
    "colab": {
      "provenance": [],
      "authorship_tag": "ABX9TyNclu44SpNstEBcH+vXexcL",
      "include_colab_link": true
    },
    "kernelspec": {
      "name": "python3",
      "display_name": "Python 3"
    },
    "language_info": {
      "name": "python"
    }
  },
  "cells": [
    {
      "cell_type": "markdown",
      "metadata": {
        "id": "view-in-github",
        "colab_type": "text"
      },
      "source": [
        "<a href=\"https://colab.research.google.com/github/2bahaa/Weather-prediction/blob/main/Untitled8.ipynb\" target=\"_parent\"><img src=\"https://colab.research.google.com/assets/colab-badge.svg\" alt=\"Open In Colab\"/></a>"
      ]
    },
    {
      "cell_type": "code",
      "execution_count": null,
      "metadata": {
        "id": "HqZUe3xSZq9M"
      },
      "outputs": [],
      "source": [
        "!pip install tensorflow_probability==0.8.0rc0 --user --upgrade   #install tensorflow_probability\n",
        "%tensorflow_version 2.x  # this line is not required unless you are in a notebook"
      ]
    },
    {
      "cell_type": "code",
      "source": [
        "import tensorflow_probability as tfp      #import different module for hidden markov model\n",
        "import tensorflow as tf                   #import tensorflow\n",
        "\n",
        "\n",
        "\n",
        "tfd=tfp.distributions                                      #create a shortcut for distributions\n",
        "initial_dist=tfd.Categorical(probs=[0.8,0.2])              #create the initial state distribution for model\n",
        "trans_dist=tfd.Categorical(probs=[[0.7,0.3],[0.2,0.8]])    #create the transition distribution for model\n",
        "obs_dist=tfd.Normal(loc=[0.,15],scale=[5.,10.])            #create the observation distribution for model\n",
        "\n",
        "\n",
        "#Build the hiden markov model\n",
        "model=tfd.HiddenMarkovModel(initial_distribution=initial_dist,transition_distribution=trans_dist,observation_distribution=obs_dist,num_steps=7)\n",
        "\n",
        "\n",
        "mean=model.mean() #partialy computed tensor so evaluate it by defining a session\n",
        "\n",
        "with tf.compat.v1.Session() as sess:\n",
        " print(mean.numpy())\n",
        "\n",
        "\n",
        "\n",
        "\n",
        "\n",
        "\n"
      ],
      "metadata": {
        "colab": {
          "base_uri": "https://localhost:8080/"
        },
        "id": "XSbKVpXnba9i",
        "outputId": "83397f76-0e9e-4267-c1f8-1aaf45c1df79"
      },
      "execution_count": 13,
      "outputs": [
        {
          "output_type": "stream",
          "name": "stdout",
          "text": [
            "[3.        5.9999995 7.4999995 8.25      8.625001  8.812501  8.90625  ]\n"
          ]
        }
      ]
    }
  ]
}